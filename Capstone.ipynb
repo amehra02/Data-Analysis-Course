{
 "cells": [
  {
   "cell_type": "markdown",
   "metadata": {},
   "source": [
    "# Capstone Final Project"
   ]
  },
  {
   "attachments": {},
   "cell_type": "markdown",
   "metadata": {},
   "source": [
    "### Introduction\n",
    "\n",
    "This project will set out to use Foursquare location data to locate bookstores in Boston, Massachusetts. Then the data will be clustered according to distance from the downtown NorthEastern campus. This application is of interest to residents in Boston, specifically Boston University & NorthEastern students as they can locate bookstores based on distance which would enable them to price match textbooks and find books for class projects and research."
   ]
  },
  {
   "attachments": {},
   "cell_type": "markdown",
   "metadata": {},
   "source": [
    "### Data\n",
    "\n",
    "I will be using Foursquare location data to find bookstores in the Boston area using the query feature of the Foursquare API. Once the json file is obtained, I will use it in conjunction with Folium in order to create markers for all bookstores. Then the data will be clustered by the parameter of distance, which will be reflect on the map in the form of different colours."
   ]
  },
  {
   "cell_type": "code",
   "execution_count": null,
   "metadata": {},
   "outputs": [],
   "source": []
  }
 ],
 "metadata": {
  "kernelspec": {
   "display_name": "Python 3",
   "language": "python",
   "name": "python3"
  },
  "language_info": {
   "codemirror_mode": {
    "name": "ipython",
    "version": 3
   },
   "file_extension": ".py",
   "mimetype": "text/x-python",
   "name": "python",
   "nbconvert_exporter": "python",
   "pygments_lexer": "ipython3",
   "version": "3.7.4"
  }
 },
 "nbformat": 4,
 "nbformat_minor": 2
}
